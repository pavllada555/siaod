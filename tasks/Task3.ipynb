{
 "cells": [
  {
   "cell_type": "markdown",
   "id": "fifteen-sailing",
   "metadata": {},
   "source": [
    "# Набор заданий №3\n",
    "\n",
    "### Задание 1\n",
    "В Тридевятом Царстве уже много лет как установилась конституционная монархия. В парламент Тридевятого царства входят 26 партий, обозначаемых строчными буквами английского алфавита от «a» до «z». Заседание парламента в соответствии с регламентом проходит по следующей схеме:\n",
    "- В начале заседания никаких законопроектов на повестке дня не стоит.\n",
    "- Любая партия (в том числе и та, которая внесла текущий законопроект) в любой момент времени может внести на обсуждение новый законопроект.\n",
    "- При вносе партией нового законопроекта обсуждение предыдущего приостанавливается и начинается обсуждение нового. После того, как парламентарии голосуют за новый законопроект, обсуждение законопроекта, прерванного им, продолжается.\n",
    "- Дискуссия по любому законопроекту обязана завершиться голосованием по этому законопроекту.\n",
    "- В конце заседания не должно остаться внесённых законопроектов, дискуссия по которым не завершена.\n",
    "\n",
    "Вам дана запись о событиях на сессии парламента. Каждое событие является либо внесением нового законопроекта, либо голосованием за какой-то законопроект, причём в обоих случаях известен номер партии, этот законопроект предложившей. События даны в том порядке, в котором они происходили. Проверьте, может ли данная запись о событиях соответствовать какому-либо заседанию, удовлетворяющему порядку проведения, описанному выше.\n",
    "#### Ввод\n",
    "Первая строка входных данных содержит одно целое число *K* – количество строк в записи сессии (1 ≤ *K* ≤ 1000). Каждая строка соответствует одному из двух событий:\n",
    "\n",
    "- Add *x* – партия x внесла на голосование законопроект.\n",
    "- Vote *x* – прошло голосование за документ, внесённый партией *x*.\n",
    "\n",
    "Здесь *x* – строчная буква английского алфавита от «a» до «z», задающая партию.\n",
    "#### Вывод\n",
    "Выведите «Yes», если существует корректный порядок проведения заседания, который мог привести к такой записи, и «No», если ни при каком корректном порядке проведения заседания данная запись появиться не могла."
   ]
  },
  {
   "cell_type": "code",
   "execution_count": 2,
   "id": "concerned-lewis",
   "metadata": {},
   "outputs": [
    {
     "ename": "ModuleNotFoundError",
     "evalue": "No module named 'stack'",
     "output_type": "error",
     "traceback": [
      "\u001b[1;31m---------------------------------------------------------------------------\u001b[0m",
      "\u001b[1;31mModuleNotFoundError\u001b[0m                       Traceback (most recent call last)",
      "\u001b[1;32mc:\\Users\\ladap\\Desktop\\Уник\\siaod\\Task3.ipynb Cell 2'\u001b[0m in \u001b[0;36m<module>\u001b[1;34m\u001b[0m\n\u001b[1;32m----> <a href='vscode-notebook-cell:/c%3A/Users/ladap/Desktop/%D0%A3%D0%BD%D0%B8%D0%BA/siaod/Task3.ipynb#ch0000001?line=0'>1</a>\u001b[0m \u001b[39mfrom\u001b[39;00m \u001b[39mstack\u001b[39;00m \u001b[39mimport\u001b[39;00m Stack\n\u001b[0;32m      <a href='vscode-notebook-cell:/c%3A/Users/ladap/Desktop/%D0%A3%D0%BD%D0%B8%D0%BA/siaod/Task3.ipynb#ch0000001?line=1'>2</a>\u001b[0m AddVote \u001b[39m=\u001b[39m Stack()\n\u001b[0;32m      <a href='vscode-notebook-cell:/c%3A/Users/ladap/Desktop/%D0%A3%D0%BD%D0%B8%D0%BA/siaod/Task3.ipynb#ch0000001?line=2'>3</a>\u001b[0m \u001b[39mdef\u001b[39;00m \u001b[39mAdd\u001b[39m(letter, stack: Stack):\n",
      "\u001b[1;31mModuleNotFoundError\u001b[0m: No module named 'stack'"
     ]
    }
   ],
   "source": [
    "from stack import Stack\n",
    "AddVote = Stack()\n",
    "def Add(letter, stack: Stack):\n",
    "    stack.push(letter)\n",
    "    return None\n",
    "\n",
    "def Vote(letter, stack: Stack):\n",
    "    if not stack.is_empty():\n",
    "        a = stack.pop()\n",
    "        if a == letter:\n",
    "            return True\n",
    "        else: \n",
    "            return False\n",
    "    else:\n",
    "        return False\n",
    "\n",
    "def instruction(path, parties, iteration):\n",
    "    temp = None\n",
    "    if path[iteration] == \"A\":\n",
    "        temp = Add(parties[iteration], AddVote)\n",
    "    elif path[iteration] == \"V\":\n",
    "        temp = Vote(parties[iteration], AddVote)\n",
    "    return temp\n",
    "\n",
    "def __main__(path, parties):\n",
    "    counter = 0\n",
    "    check = False\n",
    "    while counter < len(path)-1:\n",
    "        temp = instruction(path, parties, counter)\n",
    "        if temp is not None:\n",
    "            if temp:\n",
    "                counter+=1\n",
    "            else:\n",
    "                break\n",
    "        else:\n",
    "            counter += 1 \n",
    "        check = temp\n",
    "    if check: print(\"yes\")\n",
    "    else: print(\"no\")\n",
    "\n",
    "\n",
    "__main__(\"AAVV\", \"abab\")\n",
    "__main__(\"AVAAAVVV\", \"zzxyxxyx\")\n",
    "__main__(\"V\",\"z\")"
   ]
  },
  {
   "cell_type": "markdown",
   "id": "controversial-location",
   "metadata": {},
   "source": [
    "### Задача 2. Правильный подмногоугольник\n",
    "\n",
    "Задан правильный *N*-угольник. Требуется выбрать наименьшее количество его вершин, которые также образуют правильный многоугольник.\n",
    "\n",
    "#### Входные данные\n",
    "\n",
    "Входные данные содержат одно целое число *N* (3 ≤ *N* ≤ 1012).\n",
    "\n",
    "#### Вывод\n",
    "\n",
    "Выведите одно число — наименьшее количество вершин заданного многоугольника, которые образуют правильный многоугольник."
   ]
  },
  {
   "cell_type": "code",
   "execution_count": null,
   "id": "coated-highway",
   "metadata": {},
   "outputs": [
    {
     "name": "stdout",
     "output_type": "stream",
     "text": [
      "3\n",
      "17\n",
      "433\n",
      "5\n",
      "4\n"
     ]
    }
   ],
   "source": [
    "import math\n",
    "\n",
    "def perebor_chet(n):\n",
    "    for i in range(5, int(math.sqrt(n)), 2):\n",
    "        if n%i==0:\n",
    "            return i\n",
    "    if(n%2==0):\n",
    "        return int(n/2)\n",
    "    else:\n",
    "        return n\n",
    "\n",
    "def rightNangle(n):\n",
    "    if n%3==0:\n",
    "        return 3\n",
    "    elif n%4==0:\n",
    "        return 4\n",
    "    else:\n",
    "        return(perebor_chet(n))\n",
    "\n",
    "\n",
    "print(rightNangle(87))\n",
    "print(rightNangle(527))\n",
    "print(rightNangle(866))\n",
    "print(rightNangle(115))\n",
    "print(rightNangle(8))"
   ]
  },
  {
   "cell_type": "markdown",
   "id": "cordless-fundamentals",
   "metadata": {},
   "source": [
    "### Задача 3.\n",
    "\n",
    "На форуме, на котором обсуждаются задачи олимпиад по информатике, ввели следующий аналог капчи. Участнику выдаётся строка из *N* десятичных цифр (без ведущих нулей). В качестве ответа требуется ввести такое основание системы счисления *B*, что в этой системе счисления выданная запись будет соответствовать составному числу (назовем его *D*), а также число *X*, большее 1 и меньшее *D*, являющееся делителем *D*.\n",
    "\n",
    "При этом *B* и *X* не должны превосходить 10^9.\n",
    "\n",
    "По заданной строке десятичных цифр найдите любую пару чисел *B* и *X*, удовлетворяющую ограничениям, или ответьте, что решения в заданных ограничениях не существует.\n",
    "\n",
    "#### Входные данные\n",
    "\n",
    "Входные данные состоят из непустой строки длиной до 3 ⋅ 106 символов, составленной из цифр от 0 до 9 и не начинающейся с 0.\n",
    "\n",
    "#### Вывод\n",
    "\n",
    "Если решение существует, выведите два числа – основание системы счисления *B* и делитель *X*, записанные в десятичной системе счисления. Оба числа должны удовлетворять ограничениям 2 ≤ *B*, *X* ≤ 10^9. Если решения не существует, выведите –1."
   ]
  },
  {
   "cell_type": "code",
   "execution_count": null,
   "id": "8503cabe",
   "metadata": {},
   "outputs": [],
   "source": [
    "alphabet = []\n",
    "for i in range(64,91):\n",
    "    for j in range(65, 91):\n",
    "        temp = ''\n",
    "        if i == 64:\n",
    "            temp += chr(j)\n",
    "        else:\n",
    "            temp+= chr(i) + chr(j)\n",
    "        alphabet.append(temp)"
   ]
  },
  {
   "cell_type": "code",
   "execution_count": null,
   "id": "jewish-rocket",
   "metadata": {
    "scrolled": true
   },
   "outputs": [],
   "source": [
    "def to_any_system(number, cc):\n",
    "    result = ''\n",
    "    while number >0:\n",
    "        temp = number%cc\n",
    "        if temp >= 10:\n",
    "            result = alphabet[temp-10] + result\n",
    "        else:\n",
    "            result = str(temp) + result\n",
    "        number //= cc\n",
    "    return result"
   ]
  },
  {
   "cell_type": "code",
   "execution_count": null,
   "id": "59777791",
   "metadata": {},
   "outputs": [],
   "source": [
    "def to_ten_cc(number, cc):\n",
    "    return int(number,cc)\n",
    "\n",
    "def is_prime(number):\n",
    "    answer = []\n",
    "    for counter in range(2,number+1):\n",
    "        number1 = to_any_system(number,counter)\n",
    "        for delitel in range(2, number):\n",
    "            delitel1 = to_any_system(delitel, counter)\n",
    "            if int(number1)%int(delitel1) == 0:\n",
    "                answer.append((to_ten_cc(delitel1, counter), counter))\n",
    "    if len(answer)>0:\n",
    "        return answer\n",
    "    else:\n",
    "        return None"
   ]
  },
  {
   "cell_type": "code",
   "execution_count": null,
   "id": "0b7aa59c",
   "metadata": {},
   "outputs": [
    {
     "name": "stdout",
     "output_type": "stream",
     "text": [
      "received number: 10\n",
      "(divider, number system)\n",
      "[(2, 2), (5, 2), (2, 4), (5, 4), (2, 5), (4, 5), (5, 5), (2, 6), (2, 8), (3, 8), (4, 8), (6, 8), (2, 10), (5, 10)]\n"
     ]
    }
   ],
   "source": [
    "def to_ten_cc(number, cc):\n",
    "    return int(number,cc)\n",
    "\n",
    "def __main__(number):\n",
    "    if number==2:\n",
    "        print(-1)\n",
    "        return\n",
    "    answer = is_prime(number)\n",
    "    print(f'received number: {number}')\n",
    "    print('(divider, number system)')\n",
    "    print(answer)\n",
    "\n",
    "# print(len(alphabet))\n",
    "# for i in range(2, len(alphabet)+10):\n",
    "#     __main__(i)\n",
    "__main__(10)"
   ]
  }
 ],
 "metadata": {
  "kernelspec": {
   "display_name": "Python 3 (ipykernel)",
   "language": "python",
   "name": "python3"
  },
  "language_info": {
   "codemirror_mode": {
    "name": "ipython",
    "version": 3
   },
   "file_extension": ".py",
   "mimetype": "text/x-python",
   "name": "python",
   "nbconvert_exporter": "python",
   "pygments_lexer": "ipython3",
   "version": "3.10.4"
  }
 },
 "nbformat": 4,
 "nbformat_minor": 5
}
