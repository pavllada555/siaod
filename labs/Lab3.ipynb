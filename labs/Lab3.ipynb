{
 "cells": [
  {
   "cell_type": "markdown",
   "id": "db4b50f0",
   "metadata": {},
   "source": [
    "# Лабораторная работа №3\n",
    "## Выполнил студентка группы БВТ2001 Павлова Лада"
   ]
  },
  {
   "cell_type": "markdown",
   "id": "annual-symbol",
   "metadata": {},
   "source": [
    "### Оглавление\n",
    "1. [Задание 1](#Задание-№1)\n",
    "2. [Задание 2](#Задание-№2)\n",
    "4. [Вывод](#Вывод)"
   ]
  },
  {
   "cell_type": "markdown",
   "id": "independent-spirit",
   "metadata": {},
   "source": [
    "> Дополнительные модули, использованные при выполнение лабораторной"
   ]
  },
  {
   "cell_type": "code",
   "execution_count": 1,
   "id": "4839be2b",
   "metadata": {},
   "outputs": [],
   "source": [
    "# Необходим при замере скорости выполнения кода\n",
    "from datetime import datetime as t\n",
    "# Нужен для создания словаря в алг. Бойера-Мура\n",
    "from collections import defaultdict\n",
    "\n",
    "from tabulate import tabulate\n",
    "import time\n",
    "from queue import PriorityQueue"
   ]
  },
  {
   "cell_type": "markdown",
   "id": "inclusive-motorcycle",
   "metadata": {},
   "source": [
    "### Задание №1\n",
    "Реализовать методы поиска подстроки в строке. Добавить возможность ввода строки и подстроки с клавиатуры. Предусмотреть возможность существования пробела. Реализовать возможность выбора опции чувствительности или нечувствительности к регистру. Оценить время работы каждого алгоритма поиска и сравнить его со временем работы стандартной функции поиска, используемой в выбранном языке программирования."
   ]
  },
  {
   "cell_type": "markdown",
   "id": "interracial-communication",
   "metadata": {},
   "source": [
    "#### Алгоритм Кнута-Морриса-Пратта"
   ]
  },
  {
   "cell_type": "code",
   "execution_count": 2,
   "id": "presidential-level",
   "metadata": {},
   "outputs": [
    {
     "data": {
      "text/plain": [
       "[0, 0, 1, 2, 3, 0]"
      ]
     },
     "execution_count": 2,
     "metadata": {},
     "output_type": "execute_result"
    }
   ],
   "source": [
    "def prefix(template):#программка делает массив количества повторений, т.е.\n",
    "    array = [0]*len(template)#из лилила получится массив\n",
    "    countJ = 0#0 0 1 2 3 0\n",
    "    countI = 1# первые 2 нуля показывают, что повторений символов никаких не было\n",
    "        #первая единица отвечает за вторую л (лиЛила), которая совпала с первой\n",
    "        #двойка говорит о том, что уже было два повторения, т.е. ЛИлила, совпало с лиЛИла\n",
    "        #тройка - ЛИЛила с лиЛИЛа\n",
    "        #последний ноль - буква А ранеее не встречалась, поэтому повторений не обнаруженно    \n",
    "    while countI < len(template): \n",
    "        if template[countJ] == template[countI]:#если буквы совпали, то увеличиваем все счетчики и цифру в массивве на один\n",
    "            array[countI] = countJ+1 \n",
    "            countI += 1\n",
    "            countJ += 1\n",
    "        else:\n",
    "            if countJ == 0:#иначе, если это первый элемент, то оставляем цифру в массиве 0, а i увеличиваем на 1\n",
    "                array[countI] = 0\n",
    "                countI += 1\n",
    "            else:\n",
    "                countJ = array[countJ-1]#если все остальное не подходит под условие, то приравниваем к элементу массива значение предыдущего элемента\n",
    "    return array\n",
    "test = 'лилила'\n",
    "prefix (test)\n"
   ]
  },
  {
   "cell_type": "code",
   "execution_count": 3,
   "id": "2bdb8102",
   "metadata": {},
   "outputs": [],
   "source": [
    "def kmp(original, template):\n",
    "    lenTemplate = len(template)#берем длинны обеих строк\n",
    "    lenOriginal = len(original)#искомой и той, в которой ищем\n",
    "    prefixArray=prefix(template)#вызываем префикс, чтобы создать массив совпадений\n",
    "    countI = 0\n",
    "    countJ = 0\n",
    "    while countI < lenOriginal:#пока i меньше длинны изначальной\n",
    "        if original[countI] == template[countJ]:#если символы совпдаают\n",
    "            countI += 1#увеличиваем на 1 счетчики\n",
    "            countJ += 1\n",
    "            if countJ == lenTemplate:#если дошли до конца искомой строки, то выводим, что нашли строку\n",
    "                print(f\"example found, index {countI-lenTemplate}\")\n",
    "                break\n",
    "        else:\n",
    "            if countJ > 0:#если j Больше нуля, то приравниваем ему предыдущее значение из массива совпадений\n",
    "                countJ = prefixArray[countJ-1]\n",
    "            else:#иначе просто увеличиваем i\n",
    "                countI += 1\n",
    "\n",
    "    if countI == lenOriginal and countJ != lenTemplate:#пройдясь по всему циклу и не найдя строчку, т.е. i= длинне строки а, j!= длине строке m, то выводим что не нашли\n",
    "        print(\"example not found\")"
   ]
  },
  {
   "cell_type": "markdown",
   "id": "60134698",
   "metadata": {},
   "source": [
    "#### Упрощенный алгоритм Бойера-Мура"
   ]
  },
  {
   "cell_type": "code",
   "execution_count": 4,
   "id": "respective-reggae",
   "metadata": {},
   "outputs": [],
   "source": [
    "# Этап 1: формирование таблицы смещений\n",
    "def go_symb(template):\n",
    "    UniqSymbol = set()  # уникальные символы в образе\n",
    "    Counts = len(template) # число символов в образе\n",
    "    dictionary = {}     # словарь смещений\n",
    "\n",
    "    for i in range(Counts-2, -1, -1): # итерации с предпоследнего символа\n",
    "        if template[i] not in UniqSymbol:        # если символ еще не добавлен в таблицу\n",
    "            dictionary[template[i]] = Counts-i-1\n",
    "            UniqSymbol.add(t[i])\n",
    "\n",
    "    if template[Counts-1] not in UniqSymbol:     # отдельно формируем последний символ\n",
    "        dictionary[template[Counts-1]] = Counts\n",
    "\n",
    "    dictionary['*'] = Counts              # смещения для прочих символов\n",
    "\n",
    "    return dictionary\n",
    "\n",
    "# Этап 2: поиск образа в строке\n",
    "def bm(str,template):\n",
    "    lenOriginal = len(str)\n",
    "    lenTemplate = len(template)\n",
    "    dictionary = go_symb(template)\n",
    "    if lenOriginal >= lenTemplate:\n",
    "        i = lenTemplate-1       # счетчик проверяемого символа в строке\n",
    "\n",
    "        while(i < lenOriginal):\n",
    "            k = 0\n",
    "            j = 0\n",
    "            flBreak = False\n",
    "            for j in range(lenTemplate-1, -1, -1):\n",
    "                if str[i-k] != template[j]:\n",
    "                    if j == lenTemplate-1:\n",
    "                        off = dictionary[str[i]] if dictionary.get(str[i], False) else dictionary['*']  # смещение, если не равен последний символ образа\n",
    "                    else:\n",
    "                        off = dictionary[template[j]]   # смещение, если не равен не последний символ образа\n",
    "\n",
    "                    i += off    # смещение счетчика строки\n",
    "                    flBreak = True  # если несовпадение символа, то flBreak = True\n",
    "                    break\n",
    "\n",
    "                k += 1          # смещение для сравниваемого символа в строке\n",
    "\n",
    "            if not flBreak:          # если дошли до начала образа, значит, все его символы совпали\n",
    "                print(f\"exmaple found, index {i-k+1}\")\n",
    "                break\n",
    "        else:\n",
    "            print(\"example not found\")\n",
    "    else:\n",
    "        print(\"example not found\")"
   ]
  },
  {
   "cell_type": "code",
   "execution_count": 5,
   "id": "6edd8d1e",
   "metadata": {},
   "outputs": [
    {
     "name": "stdout",
     "output_type": "stream",
     "text": [
      "example found, index 17\n",
      "exmaple found, index 17\n"
     ]
    }
   ],
   "source": [
    "a = 'here is a simple example'\n",
    "t = 'example'\n",
    "kmp(a,t)\n",
    "bm(a,t)"
   ]
  },
  {
   "cell_type": "code",
   "execution_count": 6,
   "id": "bebf95f1",
   "metadata": {},
   "outputs": [
    {
     "name": "stdout",
     "output_type": "stream",
     "text": [
      "example found, index 46\n",
      "КНП is 308100\n",
      "exmaple found, index 46\n",
      "БМ is 62900\n",
      "БМ быстрее чем другие!\n"
     ]
    }
   ],
   "source": [
    "a = 'qwertyupopasdnjlkxzqwerewqitpowqqwertyqoitqjoi1111qwertyupopasdnjlkxzqwerewqitpowqqwertyqoitqjoi'\n",
    "t = '1111'\n",
    "all_search = dict(\n",
    "    КНП = kmp,\n",
    "    БМ = bm,\n",
    ")\n",
    "winner = ''\n",
    "min_time = -1\n",
    "for name,callable in all_search.items():\n",
    "    start = time.perf_counter_ns()\n",
    "    callable(a,t)\n",
    "    finish = time.perf_counter_ns()\n",
    "    timeout = finish-start\n",
    "    if(min_time == -1 or min_time > timeout):\n",
    "        min_time = timeout\n",
    "        winner = name\n",
    "    print(f\"{name} is {timeout}\")\n",
    "\n",
    "print(f\"{winner} быстрее чем другие!\")"
   ]
  },
  {
   "cell_type": "markdown",
   "id": "hybrid-memorial",
   "metadata": {},
   "source": [
    "### Задание №2\n",
    "Написать программу, определяющую, является ли данное\n",
    "расположение «решаемым», то есть можно ли из него за конечное число\n",
    "шагов перейти к правильному. Если это возможно, то необходимо найти хотя\n",
    "бы одно решение - последовательность движений, после которой числа будут\n",
    "расположены в правильном порядке.\n",
    "#### Входные данные: массив чисел, представляющий собой расстановку в\n",
    "Порядке «слева направо, сверху вниз». Число 0 обозначает пустое поле.\n",
    "Например, массив [1, 2, 3, 4, 5, 6, 7, 8, 9, 10, 11, 12, 13, 14, 15, 0] представляет\n",
    "собой «решенную» позицию элементов.\n",
    "#### Выходные данные: если решения нет, то функция должна вернуть\n",
    "Пустой массив []. Если решение есть, то необходимо представить решение —\n",
    "для каждого шага записывается номер передвигаемого на данном шаге\n",
    "элемента. "
   ]
  },
  {
   "cell_type": "code",
   "execution_count": 7,
   "id": "eleven-generic",
   "metadata": {},
   "outputs": [
    {
     "name": "stdout",
     "output_type": "stream",
     "text": [
      "  1  2  3  4\n",
      "  5  6  7  8\n",
      " 13  9 11 12\n",
      " 10 14 15  0\n",
      "\n",
      "[15, 14, 10, 13, 9, 10, 14, 15]\n"
     ]
    }
   ],
   "source": [
    "N = 4\n",
    "\n",
    "# Функция, определяющая движение пятнашек\n",
    "def moves(position):\n",
    "    blank = position.index(0)\n",
    "    # Возвращаются значения из кортежа с целой частью и остатком\n",
    "    i, j = divmod(blank, N)\n",
    "    # Задаем массив из смещений\n",
    "    offsets = []\n",
    "    # Движение вниз\n",
    "    if i > 0: offsets.append(-N)     \n",
    "    # Движение вверх\n",
    "    if i < N - 1: offsets.append(N)  \n",
    "    # Движение вправо\n",
    "    if j > 0: offsets.append(-1)\n",
    "    # Движение влево\n",
    "    if j < N - 1: offsets.append(1)  \n",
    "    for offset in offsets:\n",
    "        # Заполянем пустую ячейку элементом, который мы двигаем\n",
    "        swap = blank + offset\n",
    "        # Проверяем на то, является ли заменяемая ячейка пустой,\n",
    "        # и в случае, если у нас есть следующий элемент (не конец),\n",
    "        # то выводим ее индекс, а иначе индекс последнего элемента\n",
    "        yield tuple(position[swap] if x==blank else position[blank] if x==swap else position[x] for x in range(N*N))\n",
    "\n",
    "# Функция, определяющая есть ли у пятнашек конечное решение\n",
    "def parity(permutation):\n",
    "    # Создаем набор из уникальных данных с пройденными ячейками\n",
    "    # и создаем кол-во циклов прохождения по массиву ячеек\n",
    "    seen, cycles = set(), 0\n",
    "    for i in permutation:\n",
    "        # Проверяем на наличие текущей ячейки в нашем наборе при перестановке\n",
    "        # и добавляем его в набор при его отсутствии в нем\n",
    "        if i not in seen:\n",
    "            # Наращиваем счетчик циклов при отсутствии значений в наборе\n",
    "            cycles += 1\n",
    "            while i not in seen:\n",
    "                seen.add(i)\n",
    "                i = permutation[i]\n",
    "    return (cycles + len(permutation)) % 2\n",
    "\n",
    "# Класс, определяющий параметры заданного набора\n",
    "class Position:\n",
    "    # Конструктор, принимающий позицию и начальную дистанцию\n",
    "    def __init__(self, position, start_distance):\n",
    "        self.position = position\n",
    "        self.start_distance = start_distance\n",
    "\n",
    "    # Функция, срабатывающая при сравнении (<) объекта с другим объектом\n",
    "    def __lt__(self, other):\n",
    "        return self.start_distance < other.start_distance\n",
    "\n",
    "    # Функция, срабатывающая при использовании объекта как строки\n",
    "    # и создающая пятнашки в виде квадратной матрицы\n",
    "    def __str__(self):\n",
    "        return '\\n'.join((N*'{:3}').format(*[i%(N*N) for i in self.position[i:]]) \n",
    "for i in range(0, N*N, N))\n",
    "\n",
    "SOLVED = (1, 2, 3, 4, 5, 6, 7, 8, 9, 10, 11, 12, 13, 14, 15, 0)\n",
    "start = [1, 2, 3, 4, 5, 6, 7, 8, 13, 9, 11, 12, 10, 14, 15, 0]\n",
    "\n",
    "# Проверяем, можно ли в данной расстановке найти решение. Если нет, то выводим предупреждающее сообщение\n",
    "if parity(start) == 0:\n",
    "    print('Can\\'t solved')\n",
    "else:\n",
    "    # Иначе заполняем наш кортеж значниями из данного набора\n",
    "    start = tuple(start)\n",
    "\n",
    "    p = Position(start, 0)\n",
    "\n",
    "    print(p)\n",
    "    print()\n",
    "\n",
    "    # Кладем в очередь с приоритетом первоначальную позицию\n",
    "    candidates = PriorityQueue()\n",
    "    candidates.put(p)\n",
    "\n",
    "    # Кортеж посещенных нами позиций\n",
    "    visited = set([p])\n",
    "    # Словарь из позиции в качестве ключа, значение которого в дальнейшем\n",
    "    # будем заполнять теми ячейками, которые стоит переместить для получения решения\n",
    "    came_from = {p.position: None}\n",
    "\n",
    "    while p.position != SOLVED:\n",
    "        # Извлекаем из очереди позицию с наименьшим приоритетом\n",
    "        p = candidates.get()\n",
    "        # Кладем в очередь все соседние позиции. Повторяем, пока не вытащим конечную позицию из очереди\n",
    "        for k in moves(p.position):\n",
    "            if k not in visited:\n",
    "                candidates.put(Position(k, p.start_distance + 1))\n",
    "                came_from[k] = p\n",
    "                visited.add(k)\n",
    "\n",
    "    # Последовательное решение пятнашек (путь)\n",
    "    path = []\n",
    "    # Сохраняем конечную позицию\n",
    "    prev = p\n",
    "    # Идем в обратном порядке и запоминаем очередность хода в path\n",
    "    while p.position != start:\n",
    "        # Запоминаем, откуда ход\n",
    "        p = came_from[p.position]\n",
    "        number = p.position[prev.position.index(0)]\n",
    "        path.append(number)\n",
    "        prev = p\n",
    "    path.reverse()\n",
    "\n",
    "    print(path)"
   ]
  }
 ],
 "metadata": {
  "kernelspec": {
   "display_name": "Python 3 (ipykernel)",
   "language": "python",
   "name": "python3"
  },
  "language_info": {
   "codemirror_mode": {
    "name": "ipython",
    "version": 3
   },
   "file_extension": ".py",
   "mimetype": "text/x-python",
   "name": "python",
   "nbconvert_exporter": "python",
   "pygments_lexer": "ipython3",
   "version": "3.10.2"
  }
 },
 "nbformat": 4,
 "nbformat_minor": 5
}
