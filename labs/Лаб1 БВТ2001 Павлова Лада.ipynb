{
 "cells": [
  {
   "cell_type": "markdown",
   "metadata": {},
   "source": [
    "# Лабораторная работа №1\n",
    "## Выполнила студентка группы БВТ2001 Павлова Лада Денисовна\n",
    "### Задание 1 - вывод “Hello, World!” "
   ]
  },
  {
   "cell_type": "code",
   "execution_count": 89,
   "metadata": {},
   "outputs": [
    {
     "name": "stdout",
     "output_type": "stream",
     "text": [
      "Hello, World!\n"
     ]
    }
   ],
   "source": [
    "print(\"Hello, World!\")"
   ]
  },
  {
   "cell_type": "markdown",
   "metadata": {},
   "source": [
    "### Задание 2 - написать генератор случайных(многомерных) матриц, который принимает опциональные параметры m, n, min_limit, max_limit, где m и n указывают размер матрицы, а min_lim и max_lim - минимальное и максимальное значение для генерируемого числа . По умолчанию при отсутствии параметров принимать следующие значения:\n",
    "#### m = 50\n",
    "#### n = 50\n",
    "#### min_limit = -250\n",
    "#### max_limit = 1000 + (номер своего варианта)"
   ]
  },
  {
   "cell_type": "code",
   "execution_count": 90,
   "metadata": {},
   "outputs": [],
   "source": [
    "from random import randint\n",
    "import time\n",
    "m = 50\n",
    "n = 50\n",
    "min_limit = -250\n",
    "variant = 14\n",
    "max_limit = 1000 + variant\n",
    "mtx = [ [0]*m for i in range(n)]\n",
    "for i in range (n):\n",
    "    for j in range (m):\n",
    "        mtx[i][j]=randint(min_limit,max_limit)\n",
    "                \n",
    "#print(mtx)"
   ]
  },
  {
   "cell_type": "markdown",
   "metadata": {},
   "source": [
    "### Задание 3 - Реализовать методы сортировки строк числовой матрицы в соответствии с заданием. Оценить время работы каждого алгоритма сортировки и сравнить его со временем стандартной функции сортировки. Испытания проводить на сгенерированных матрицах. Методы: выбором, вставкой, обменом, Шелла, турнирная, быстрая сортировка, пирамидальная"
   ]
  },
  {
   "cell_type": "code",
   "execution_count": 91,
   "metadata": {},
   "outputs": [],
   "source": [
    "def selection_sort(nums):#выбором\n",
    "    for i in range(len(nums)):\n",
    "        min_id = i\n",
    "        for j in range(i + 1, len(nums)):\n",
    "            if nums[j] < nums[min_id]:\n",
    "                min_id = j\n",
    "        nums[i], nums[min_id] = nums[min_id], nums[i]\n",
    "     "
   ]
  },
  {
   "cell_type": "code",
   "execution_count": 92,
   "metadata": {},
   "outputs": [],
   "source": [
    "def insertion_sort(nums):#вставкой\n",
    "    for i in range(1, len(nums)):\n",
    "        item_to_insert = nums[i]\n",
    "        j = i - 1\n",
    "        while j >= 0 and nums[j] > item_to_insert:\n",
    "            nums[j + 1] = nums[j]\n",
    "            j -= 1\n",
    "        nums[j + 1] = item_to_insert"
   ]
  },
  {
   "cell_type": "code",
   "execution_count": 93,
   "metadata": {},
   "outputs": [],
   "source": [
    "def bubble_sort(nums):#обменом\n",
    "    swapped = True\n",
    "    while swapped:\n",
    "        swapped = False\n",
    "        for i in range(len(nums) - 1):\n",
    "            if nums[i] > nums[i + 1]:\n",
    "                nums[i], nums[i + 1] = nums[i + 1], nums[i]\n",
    "                swapped = True"
   ]
  },
  {
   "cell_type": "code",
   "execution_count": 94,
   "metadata": {},
   "outputs": [],
   "source": [
    "def shell_sort(nums):#Шелла\n",
    "    gap = len(nums)//2\n",
    "    while gap > 0:\n",
    "        for iIndex in range(gap, len(nums)):\n",
    "            temp = nums[iIndex]\n",
    "            jIndex = iIndex\n",
    "            while jIndex >= gap and nums[jIndex - gap] > temp:\n",
    "                nums[jIndex] = nums[jIndex - gap]\n",
    "                jIndex -= gap\n",
    "            nums[jIndex] = temp\n",
    "        gap //= 2"
   ]
  },
  {
   "cell_type": "code",
   "execution_count": 95,
   "metadata": {},
   "outputs": [],
   "source": [
    "import math\n",
    "#турнирная\n",
    "def build(A, B, x, l, r):\n",
    "    if l == r:\n",
    "        B[x] = (A[l], x)\n",
    "    else:\n",
    "        mid = (l + r) // 2\n",
    "        build(A, B, 2 * x, l, mid)\n",
    "        build(A, B, (2 * x) + 1, mid + 1, r)\n",
    "        if B[(2 * x) + 1][0] < B[2 * x][0]:\n",
    "            B[x] = B[(2 * x) + 1]\n",
    "        else:\n",
    "            B[x] = B[2 * x]\n",
    "\n",
    "def pop(B):\n",
    "    result = B[1][0]\n",
    "    index = B[1][1]\n",
    "    B[index] = None\n",
    "    while index > 1:\n",
    "        index = index // 2\n",
    "        if B[index * 2] is None:\n",
    "            minimum = B[(index * 2) + 1]\n",
    "        elif B[(index * 2) + 1] is None:\n",
    "            minimum = B[index * 2]\n",
    "        else:\n",
    "            minimum = min(B[index * 2], B[(index * 2) + 1])\n",
    "        if minimum == B[index]:\n",
    "            break\n",
    "        B[index] = minimum\n",
    "    return result\n",
    "\n",
    "def tournament_sort(stroka: list[int]):  # турнирная сортировка\n",
    "    n = len(stroka)\n",
    "    temp = [None] * (2 ** (math.ceil(math.log2(n)) + 1))\n",
    "    build(stroka, temp, 1, 0, n - 1)\n",
    "    sorted_array = [pop(temp) for _ in range(n)]\n",
    "    return sorted_array"
   ]
  },
  {
   "cell_type": "code",
   "execution_count": 96,
   "metadata": {},
   "outputs": [],
   "source": [
    "def partition(nums, low, high):  \n",
    "    pivot = nums[(low + high) // 2]\n",
    "    i = low - 1\n",
    "    j = high + 1\n",
    "    while True:\n",
    "        i += 1\n",
    "        while nums[i] < pivot:\n",
    "            i += 1\n",
    "        j -= 1\n",
    "        while nums[j] > pivot:\n",
    "            j -= 1\n",
    "        if i >= j:\n",
    "            return j\n",
    "        nums[i], nums[j] = nums[j], nums[i]\n",
    "\n",
    "\n",
    "def quick_sort(nums):  #быстрая сортировка\n",
    "    def _quick_sort(items, low, high):\n",
    "        if low < high:\n",
    "            split_index = partition(items, low, high)\n",
    "            _quick_sort(items, low, split_index)\n",
    "            _quick_sort(items, split_index + 1, high)\n",
    "    _quick_sort(nums, 0, len(nums) - 1)\n"
   ]
  },
  {
   "cell_type": "code",
   "execution_count": 97,
   "metadata": {},
   "outputs": [],
   "source": [
    "def heapify(nums, heap_size, root_index):  \n",
    "    largest = root_index\n",
    "    left_child = (2 * root_index) + 1\n",
    "    right_child = (2 * root_index) + 2\n",
    "    if left_child < heap_size and nums[left_child] > nums[largest]:\n",
    "        largest = left_child\n",
    "    if right_child < heap_size and nums[right_child] > nums[largest]:\n",
    "        largest = right_child\n",
    "    if largest != root_index:\n",
    "        nums[root_index], nums[largest] = nums[largest], nums[root_index]\n",
    "        heapify(nums, heap_size, largest)\n",
    "\n",
    "\n",
    "def heap_sort(nums): # пирамидальная\n",
    "    n = len(nums)\n",
    "    for i in range(n, -1, -1):\n",
    "        heapify(nums, n, i)\n",
    "    for i in range(n - 1, 0, -1):\n",
    "        nums[i], nums[0] = nums[0], nums[i]\n",
    "        heapify(nums, i, 0)"
   ]
  },
  {
   "cell_type": "code",
   "execution_count": 98,
   "metadata": {},
   "outputs": [],
   "source": [
    "all_sorts = dict(\n",
    "    Обменом = bubble_sort,\n",
    "    Пирамидальная = heap_sort,\n",
    "    Шелл = shell_sort,\n",
    "    Турнирная = tournament_sort,\n",
    "    Вставкой = insertion_sort,\n",
    "    Выбором = selection_sort,\n",
    "    Быстрая = quick_sort,\n",
    "    Стандартная_сортировка_Python = sorted,\n",
    ")"
   ]
  },
  {
   "cell_type": "code",
   "execution_count": 99,
   "metadata": {},
   "outputs": [
    {
     "name": "stdout",
     "output_type": "stream",
     "text": [
      "Обменом is 34072900ns\n",
      "Пирамидальная is 21181200ns\n",
      "Шелл is 4233600ns\n",
      "Турнирная is 23153600ns\n",
      "Вставкой is 1046100ns\n",
      "Выбором is 17481900ns\n",
      "Быстрая is 7477900ns\n",
      "Стандартная_сортировка_Python is 137400ns\n",
      "Стандартная_сортировка_Python win\n"
     ]
    }
   ],
   "source": [
    "minTimer = 0\n",
    "for name,callable in all_sorts.items():\n",
    "    standart_mtx = mtx.copy()\n",
    "    start = time.perf_counter_ns()\n",
    "    for row in standart_mtx:\n",
    "        callable(row)\n",
    "    finish = time.perf_counter_ns()\n",
    "    timer = finish - start\n",
    "    if timer<minTimer or minTimer==0:\n",
    "        minTimer = timer\n",
    "        mostQuickSort = name\n",
    "    print(f\"{name} is {timer}ns\")\n",
    "print(f\"{mostQuickSort} win\")"
   ]
  }
 ],
 "metadata": {
  "interpreter": {
   "hash": "57baa5815c940fdaff4d14510622de9616cae602444507ba5d0b6727c008cbd6"
  },
  "kernelspec": {
   "display_name": "Python 3.7.8 64-bit",
   "language": "python",
   "name": "python3"
  },
  "language_info": {
   "codemirror_mode": {
    "name": "ipython",
    "version": 3
   },
   "file_extension": ".py",
   "mimetype": "text/x-python",
   "name": "python",
   "nbconvert_exporter": "python",
   "pygments_lexer": "ipython3",
   "version": "3.10.2"
  },
  "orig_nbformat": 4
 },
 "nbformat": 4,
 "nbformat_minor": 2
}
