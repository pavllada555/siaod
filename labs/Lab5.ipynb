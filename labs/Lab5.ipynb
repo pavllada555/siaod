{
 "cells": [
  {
   "cell_type": "markdown",
   "metadata": {
    "id": "WPvB9TcMmKA6"
   },
   "source": [
    "# Лабораторная работа №5\n",
    "# Рекурсия. Фракталы."
   ]
  },
  {
   "cell_type": "markdown",
   "metadata": {
    "id": "96Gi_LEvmSVH"
   },
   "source": [
    "## Выполнил студент группы ФИО ГРУППА\n",
    "***"
   ]
  },
  {
   "cell_type": "markdown",
   "metadata": {
    "id": "4clYOyb0mbEv"
   },
   "source": [
    "### Задание:\n",
    "Реализовать генерацию заданного типа фрактала с применением рекурсивных функций.\n",
    "\n",
    "\n",
    "Добавить возможность задания глубины фрактала. \n",
    "\n",
    "\n",
    "Оценить глубину рекурсии. \n",
    "\n",
    "\n",
    "Построить таблицу зависимости времени построения от глубины фрактала."
   ]
  },
  {
   "cell_type": "markdown",
   "metadata": {
    "id": "wDXHbUmMmhRL"
   },
   "source": [
    "### Список фракталов:\n",
    "\n",
    "Кривая Коха\n",
    "| Кривая Гильберта\n",
    "| Кривая Серпинского\n",
    "| Салфетка Серпинского\n",
    "| Ковер Серпинского\n",
    "| Дерево Пифагора "
   ]
  },
  {
   "cell_type": "code",
   "execution_count": 523,
   "metadata": {},
   "outputs": [],
   "source": [
    "import turtle\n",
    "import time\n",
    "import random\n",
    "RECURSION_DEPTH = 0\n",
    "ITS_TIME_TO_START = -1\n",
    "ITS_TIME_TO_FINISH = -1"
   ]
  },
  {
   "cell_type": "code",
   "execution_count": 524,
   "metadata": {},
   "outputs": [],
   "source": [
    "count = 0\n",
    "def recursion(a):\n",
    "    count += 1\n",
    "    if a < 5:\n",
    "        a+=1\n",
    "    else:\n",
    "        recursion(a)"
   ]
  },
  {
   "cell_type": "code",
   "execution_count": 525,
   "metadata": {},
   "outputs": [],
   "source": [
    "def create_l_system(iters, axiom, rules):\n",
    "    start_string = axiom\n",
    "    if iters == 0:\n",
    "        return axiom\n",
    "    end_string = \"\"\n",
    "    for _ in range(iters):\n",
    "        end_string = \"\".join(rules[i] if i in rules else i for i in start_string)\n",
    "        start_string = end_string\n",
    "\n",
    "    return end_string\n",
    "\n",
    "\n",
    "def draw_l_system(t, instructions, angle, distance):\n",
    "    for cmd in instructions:\n",
    "        if cmd == 'F':\n",
    "            t.forward(distance)\n",
    "        elif cmd == '+':\n",
    "            t.right(angle)\n",
    "        elif cmd == '-':\n",
    "            t.left(angle)\n",
    "\n",
    "\n",
    "def main(iterations, axiom, rules, angle, length=8, size=2, y_offset=0,\n",
    "        x_offset=0, offset_angle=0, width=450, height=450):\n",
    "    global ITS_TIME_TO_START, ITS_TIME_TO_FINISH\n",
    "    ITS_TIME_TO_START = time.perf_counter()\n",
    "    inst = create_l_system(iterations, axiom, rules)\n",
    "\n",
    "    t = turtle.Turtle()\n",
    "    wn = turtle.Screen()\n",
    "    wn.setup(width, height)\n",
    "\n",
    "    t.up()\n",
    "    t.backward(-x_offset)\n",
    "    t.left(90)\n",
    "    t.backward(-y_offset)\n",
    "    t.left(offset_angle)\n",
    "    t.down()\n",
    "    t.speed(0)\n",
    "    t.pensize(size)\n",
    "    draw_l_system(t, inst, angle, length)\n",
    "    t.hideturtle()\n",
    "    ITS_TIME_TO_FINISH = time.perf_counter()\n",
    "    wn.exitonclick()"
   ]
  },
  {
   "cell_type": "markdown",
   "metadata": {
    "id": "Wggfn8l7nG72"
   },
   "source": [
    "### Выполнение:"
   ]
  },
  {
   "cell_type": "code",
   "execution_count": 526,
   "metadata": {
    "id": "681a95mZnOSa"
   },
   "outputs": [],
   "source": [
    "def snow(x):\n",
    "    axiom = \"F--F--F\"#снежинка Коха\n",
    "    rules = {\"F\":\"F+F--F+F\"}\n",
    "    iterations = x # TOP: 7\n",
    "    angle = 60\n",
    "    main(iterations, axiom, rules, angle)"
   ]
  },
  {
   "cell_type": "code",
   "execution_count": 527,
   "metadata": {},
   "outputs": [],
   "source": [
    "def gilbert(x):\n",
    "    axiom = \"L\"#гилберта\n",
    "    rules = {\"L\":\"+RF-LFL-FR+\", \"R\":\"-LF+RFR+FL-\"}\n",
    "    iterations = x # TOP: 9\n",
    "    angle = 90\n",
    "    main(iterations, axiom, rules, angle)"
   ]
  },
  {
   "cell_type": "code",
   "execution_count": 528,
   "metadata": {},
   "outputs": [],
   "source": [
    "def curveSerp(x):\n",
    "    axiom = \"F+XF+F+XF\"#Кривая Серпинского\n",
    "    rules = {\"X\":\"XF-F+F-XF+F+XF-F+F-X\"}\n",
    "    iterations = x # TOP: 8\n",
    "    angle = 90\n",
    "    main(iterations, axiom, rules, angle)"
   ]
  },
  {
   "cell_type": "code",
   "execution_count": 529,
   "metadata": {},
   "outputs": [],
   "source": [
    "def triangleSerp(x):\n",
    "    axiom = \"FXF--FF--FF\"#Салфетка\n",
    "    rules = {\"F\":\"FF\", \"X\":\"--FXF++FXF++FXF--\"}\n",
    "    iterations = x # TOP: 8\n",
    "    angle = 60\n",
    "    main(iterations, axiom, rules, angle)"
   ]
  },
  {
   "cell_type": "code",
   "execution_count": 530,
   "metadata": {},
   "outputs": [],
   "source": [
    "def cover(n, size, depth = 0):\n",
    "    global RECURSION_DEPTH\n",
    "    if depth > RECURSION_DEPTH:\n",
    "        RECURSION_DEPTH = depth\n",
    "    if n == 0:\n",
    "        turtle.color('black')\n",
    "        turtle.begin_fill()\n",
    "        for _ in range(4):\n",
    "            turtle.forward(size)\n",
    "            turtle.left(90)\n",
    "        turtle.end_fill()\n",
    " \n",
    "    else:\n",
    "        for _ in range(4):\n",
    "            cover(n - 1, size / 3, depth + 1)\n",
    "            turtle.forward(size / 3)\n",
    " \n",
    "            cover(n - 1, size / 3, depth + 1)\n",
    "            turtle.forward(size / 3)\n",
    " \n",
    "            turtle.forward(size / 3)\n",
    "            turtle.left(90)"
   ]
  },
  {
   "cell_type": "code",
   "execution_count": 531,
   "metadata": {},
   "outputs": [],
   "source": [
    "def tree(length, depth = 0):\n",
    "    global RECURSION_DEPTH\n",
    "    if depth > RECURSION_DEPTH:\n",
    "        RECURSION_DEPTH = depth\n",
    "    turtle.forward(length)\n",
    "    if length>5:\n",
    "        number=random.randint(1,3)\n",
    "        for i in range(number):\n",
    "            angle=random.randint(-60,60)\n",
    "            turtle.right(angle)\n",
    "            tree(length*0.66, depth+1)\n",
    "            turtle.left(angle)\n",
    "    else:\n",
    "        print\n",
    "    turtle.backward(length)\n",
    "# turtle.left(90)\n",
    "# turtle.up()\n",
    "# turtle.backward(200)\n",
    "# turtle.down()\n",
    "# tree(200)#не больше 200\n",
    "# turtle.mainloop()"
   ]
  },
  {
   "cell_type": "code",
   "execution_count": 532,
   "metadata": {},
   "outputs": [
    {
     "name": "stdout",
     "output_type": "stream",
     "text": [
      "2142.654113800265\n"
     ]
    }
   ],
   "source": [
    "\n",
    "# snow(5) #TOP: 5(7)\n",
    "# triangleSerp(4) #TOP: 7 (8)\n",
    "# curveSerp(7) #TOP: 6 (8)\n",
    "#gilbert(7) #TOP: (9)\n",
    "turtle.speed(0)\n",
    "ITS_TIME_TO_START = time.perf_counter()\n",
    "# turtle.tracer(10)\n",
    "cover(4, 500)\n",
    "ITS_TIME_TO_FINISH = time.perf_counter()\n",
    "\n",
    "# turtle.left(90)\n",
    "# turtle.up()\n",
    "# turtle.backward(200)\n",
    "# turtle.down()\n",
    "# tree(200)\n",
    "print(ITS_TIME_TO_FINISH-ITS_TIME_TO_START)\n",
    "turtle.done()"
   ]
  },
  {
   "cell_type": "markdown",
   "metadata": {
    "id": "diOb-K7LnO5a"
   },
   "source": [
    "### Вывод"
   ]
  }
 ],
 "metadata": {
  "colab": {
   "collapsed_sections": [],
   "name": "Lab5.ipynb",
   "provenance": []
  },
  "kernelspec": {
   "display_name": "Python 3 (ipykernel)",
   "language": "python",
   "name": "python3"
  },
  "language_info": {
   "codemirror_mode": {
    "name": "ipython",
    "version": 3
   },
   "file_extension": ".py",
   "mimetype": "text/x-python",
   "name": "python",
   "nbconvert_exporter": "python",
   "pygments_lexer": "ipython3",
   "version": "3.10.4"
  }
 },
 "nbformat": 4,
 "nbformat_minor": 1
}
